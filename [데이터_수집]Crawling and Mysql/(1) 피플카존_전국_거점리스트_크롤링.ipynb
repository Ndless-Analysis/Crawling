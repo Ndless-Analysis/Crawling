{
 "cells": [
  {
   "cell_type": "markdown",
   "metadata": {},
   "source": [
    "라이브러리 불러오기"
   ]
  },
  {
   "cell_type": "code",
   "execution_count": 6,
   "metadata": {},
   "outputs": [],
   "source": [
    "from selenium import webdriver\n",
    "from bs4 import BeautifulSoup\n",
    "import requests\n",
    "from selenium.webdriver.common.by import By\n",
    "\n",
    "#명시적 대기\n",
    "from selenium.webdriver.support.ui import WebDriverWait\n",
    "from selenium.webdriver.support import expected_conditions as EC\n",
    "\n",
    "import pandas as pd\n",
    "import time"
   ]
  },
  {
   "cell_type": "markdown",
   "metadata": {},
   "source": [
    "다음 카카오맵 불러오기 > 검색어 입력 > 검색버튼 클릭"
   ]
  },
  {
   "cell_type": "markdown",
   "metadata": {},
   "source": [
    "피플카존 저장"
   ]
  },
  {
   "cell_type": "code",
   "execution_count": 34,
   "metadata": {},
   "outputs": [],
   "source": [
    "#다음 카카오맵 페이지 불러오기\n",
    "main_url = 'https://map.kakao.com/'"
   ]
  },
  {
   "cell_type": "code",
   "execution_count": 35,
   "metadata": {},
   "outputs": [
    {
     "name": "stdout",
     "output_type": "stream",
     "text": [
      "검색어 입력:피플존\n"
     ]
    }
   ],
   "source": [
    "keyword = input('검색어 입력:')"
   ]
  },
  {
   "cell_type": "code",
   "execution_count": 36,
   "metadata": {
    "scrolled": true
   },
   "outputs": [],
   "source": [
    "driver = webdriver.Chrome(executable_path='C:/★팀프로젝트/크롤링/chromedriver.exe')"
   ]
  },
  {
   "cell_type": "code",
   "execution_count": 37,
   "metadata": {},
   "outputs": [],
   "source": [
    "driver.get(main_url)"
   ]
  },
  {
   "cell_type": "code",
   "execution_count": 38,
   "metadata": {},
   "outputs": [],
   "source": [
    "#검색창에 쏘카 입력하기\n",
    "driver.find_element_by_id('search.keyword.query').send_keys(keyword)"
   ]
  },
  {
   "cell_type": "code",
   "execution_count": 39,
   "metadata": {},
   "outputs": [],
   "source": [
    "#검색버튼 누르기\n",
    "driver.find_element_by_xpath('/html/body/div[2]/div/div/form/fieldset/div[1]/button').click()\n",
    "#5초 대기\n",
    "time.sleep(5)"
   ]
  },
  {
   "cell_type": "code",
   "execution_count": 40,
   "metadata": {},
   "outputs": [
    {
     "name": "stdout",
     "output_type": "stream",
     "text": [
      "검색 갯수 388\n",
      "388\n"
     ]
    }
   ],
   "source": [
    "totalCount = driver.find_element_by_css_selector('#info\\.search\\.place\\.cnt')\n",
    "print('검색 갯수',totalCount.text)\n",
    "#검색개수 ,삭제하고  정수로 변환\n",
    "totalCount = int(totalCount.text.replace(',',''))\n",
    "print(totalCount)"
   ]
  },
  {
   "cell_type": "markdown",
   "metadata": {},
   "source": [
    "리스트 데이터 저장"
   ]
  },
  {
   "cell_type": "markdown",
   "metadata": {},
   "source": [
    "한 페이지당 selector copy를 하면 페이지당 1에서 16개임 (4번은 광고들어가서 빼면 15개 ㅇㅇ)"
   ]
  },
  {
   "cell_type": "markdown",
   "metadata": {},
   "source": [
    "페이지 출력"
   ]
  },
  {
   "cell_type": "code",
   "execution_count": 41,
   "metadata": {},
   "outputs": [
    {
     "data": {
      "text/plain": [
       "26.0"
      ]
     },
     "execution_count": 41,
     "metadata": {},
     "output_type": "execute_result"
    }
   ],
   "source": [
    "#총 페이지수 \n",
    "totalPage = round(totalCount/15,0)\n",
    "totalPage"
   ]
  },
  {
   "cell_type": "code",
   "execution_count": 42,
   "metadata": {},
   "outputs": [
    {
     "data": {
      "text/plain": [
       "6"
      ]
     },
     "execution_count": 42,
     "metadata": {},
     "output_type": "execute_result"
    }
   ],
   "source": [
    "#다음 누를 횟수\n",
    "import math\n",
    "math.ceil(totalPage/5)"
   ]
  },
  {
   "cell_type": "code",
   "execution_count": 43,
   "metadata": {},
   "outputs": [
    {
     "data": {
      "text/plain": [
       "13"
      ]
     },
     "execution_count": 43,
     "metadata": {},
     "output_type": "execute_result"
    }
   ],
   "source": [
    "#마지막 페이지에 남는 개수\n",
    "totalCount%15"
   ]
  },
  {
   "cell_type": "code",
   "execution_count": 44,
   "metadata": {},
   "outputs": [
    {
     "data": {
      "text/html": [
       "<div>\n",
       "<style scoped>\n",
       "    .dataframe tbody tr th:only-of-type {\n",
       "        vertical-align: middle;\n",
       "    }\n",
       "\n",
       "    .dataframe tbody tr th {\n",
       "        vertical-align: top;\n",
       "    }\n",
       "\n",
       "    .dataframe thead th {\n",
       "        text-align: right;\n",
       "    }\n",
       "</style>\n",
       "<table border=\"1\" class=\"dataframe\">\n",
       "  <thead>\n",
       "    <tr style=\"text-align: right;\">\n",
       "      <th></th>\n",
       "      <th>거점명</th>\n",
       "      <th>주소</th>\n",
       "    </tr>\n",
       "  </thead>\n",
       "  <tbody>\n",
       "  </tbody>\n",
       "</table>\n",
       "</div>"
      ],
      "text/plain": [
       "Empty DataFrame\n",
       "Columns: [거점명, 주소]\n",
       "Index: []"
      ]
     },
     "execution_count": 44,
     "metadata": {},
     "output_type": "execute_result"
    }
   ],
   "source": [
    "df_empty = pd.DataFrame({'거점명' : [],'주소':[]})\n",
    "df_empty"
   ]
  },
  {
   "cell_type": "code",
   "execution_count": 45,
   "metadata": {},
   "outputs": [
    {
     "data": {
      "text/html": [
       "<div>\n",
       "<style scoped>\n",
       "    .dataframe tbody tr th:only-of-type {\n",
       "        vertical-align: middle;\n",
       "    }\n",
       "\n",
       "    .dataframe tbody tr th {\n",
       "        vertical-align: top;\n",
       "    }\n",
       "\n",
       "    .dataframe thead th {\n",
       "        text-align: right;\n",
       "    }\n",
       "</style>\n",
       "<table border=\"1\" class=\"dataframe\">\n",
       "  <thead>\n",
       "    <tr style=\"text-align: right;\">\n",
       "      <th></th>\n",
       "      <th>거점명</th>\n",
       "      <th>주소</th>\n",
       "    </tr>\n",
       "  </thead>\n",
       "  <tbody>\n",
       "  </tbody>\n",
       "</table>\n",
       "</div>"
      ],
      "text/plain": [
       "Empty DataFrame\n",
       "Columns: [거점명, 주소]\n",
       "Index: []"
      ]
     },
     "execution_count": 45,
     "metadata": {},
     "output_type": "execute_result"
    }
   ],
   "source": [
    "all_empty = pd.DataFrame({'거점명' : [],'주소':[]})\n",
    "all_empty"
   ]
  },
  {
   "cell_type": "code",
   "execution_count": 46,
   "metadata": {},
   "outputs": [
    {
     "name": "stdout",
     "output_type": "stream",
     "text": [
      "                             거점명                    주소\n",
      "0             피플존 디지털미디어시티역 5번출구      서울 은평구 증산동 222-6\n",
      "1                 피플존 망원동노외공영주차장       서울 마포구 월드컵로 131\n",
      "2              피플존 아만티호텔 서울 지하3층       서울 마포구 월드컵북로 31\n",
      "3               피플존 창천동삼거리(화이트빌)    서울 서대문구 창천동 100-26\n",
      "4             피플존 한국항공대(방문자 주차장)   경기 고양시 덕양구 항공대학로 76\n",
      "..                           ...                   ...\n",
      "383             피플존 동아대정문앞교직원주차장   부산 사하구 낙동대로550번길 15\n",
      "384             피플존 여수엑스포역 공영주차장       전남 여수시 덕충동 61-7\n",
      "385       피플존 인제대학교 늘빛관 옆 주차장 3층  경남 김해시 어방동 607 인제대학교\n",
      "386        피플존 부경대대연캠퍼스옆(에이스고시원)      부산 남구 용소로21번길 13\n",
      "387  피플존 전남대 여수캠퍼스 체육관 운동장 뒤 주차장     전남 여수시 둔덕동 산 96-1\n",
      "\n",
      "[388 rows x 2 columns]\n"
     ]
    }
   ],
   "source": [
    "#1페이지에서 장소 더보기 클릭\n",
    "driver.find_element_by_css_selector('#info\\.search\\.place\\.more').click()\n",
    "time.sleep(2)\n",
    "\n",
    "#다음 클릭\n",
    "for next_click in range (1,(math.ceil(totalPage/5))):\n",
    "    \n",
    "    for i in range(1,6):\n",
    "        driver.find_element_by_css_selector(\"#info\\.search\\.page\\.no\"+str(i)).click()\n",
    "        time.sleep(2)\n",
    "        \n",
    "        garage_list = []\n",
    "        address_list = []\n",
    "        \n",
    "        for j in range(1,17):\n",
    "            if j != 4:\n",
    "                #차고지명 \n",
    "                garage = driver.find_element_by_css_selector('#info\\.search\\.place\\.list > li:nth-child('+ str(j) + ') > div.head_item.clickArea > strong > a.link_name').text\n",
    "                garage_list.append(garage)\n",
    "                \n",
    "                #주소\n",
    "                address = driver.find_element_by_css_selector('#info\\.search\\.place\\.list > li:nth-child(' +str(j) +') > div.info_item > div.addr > p:nth-child(1)').text\n",
    "                address_list.append(address)\n",
    "                #print(garage_list)\n",
    "                #print(address_list)\n",
    "                #list 짝짓기 \n",
    "                \n",
    "        data_tuples = list(zip(garage_list,address_list))\n",
    "        #데이터프레임으로 만들기\n",
    "        df = pd.DataFrame(data_tuples, columns=['거점명','주소'])\n",
    "        \n",
    "        #데이터프레임 합치기\n",
    "        if i == 1:\n",
    "            df_final = df_empty.append(df, ignore_index=True)\n",
    "        else:\n",
    "            df_final = df_final.append(df, ignore_index=True)\n",
    "\n",
    "            #print(df_final)\n",
    "    if next_click == 1:\n",
    "        all_df_final = all_empty.append(df_final,ignore_index=True)\n",
    "    else:\n",
    "        all_df_final = all_df_final.append(df_final,ignore_index=True)\n",
    "    #다음 클릭하기\n",
    "    driver.find_element_by_css_selector('#info\\.search\\.page\\.next').click()\n",
    "\n",
    "driver.find_element_by_css_selector('#info\\.search\\.page\\.no1').click()\n",
    "\n",
    "\n",
    "##############마지막 페이지 #########################\n",
    "garage_list = []\n",
    "address_list= []\n",
    "for last in range(1,totalCount%15+2 ):\n",
    "    \n",
    "    if last != 4:\n",
    "        #차고지명 \n",
    "        garage = driver.find_element_by_css_selector('#info\\.search\\.place\\.list > li:nth-child('+ str(last) + ') > div.head_item.clickArea > strong > a.link_name').text\n",
    "        garage_list.append(garage)\n",
    "        #주소\n",
    "        address = driver.find_element_by_css_selector('#info\\.search\\.place\\.list > li:nth-child(' +str(last) +') > div.info_item > div.addr > p:nth-child(1)').text\n",
    "        address_list.append(address)\n",
    "        #print(garage_list)\n",
    "        #print(address_list)\n",
    "        #list 짝짓기 \n",
    "                \n",
    "data_tuples = list(zip(garage_list,address_list))\n",
    "        #데이터프레임으로 만들기\n",
    "df = pd.DataFrame(data_tuples, columns=['거점명','주소'])\n",
    "        \n",
    "all_df_final = all_df_final.append(df,ignore_index=True)\n",
    "\n",
    "        \n",
    "    #info\\.search\\.place\\.list > li:nth-child(14) > div.head_item.clickArea > strong > a.link_name\n",
    "print(all_df_final)"
   ]
  },
  {
   "cell_type": "code",
   "execution_count": 47,
   "metadata": {},
   "outputs": [
    {
     "data": {
      "text/html": [
       "<div>\n",
       "<style scoped>\n",
       "    .dataframe tbody tr th:only-of-type {\n",
       "        vertical-align: middle;\n",
       "    }\n",
       "\n",
       "    .dataframe tbody tr th {\n",
       "        vertical-align: top;\n",
       "    }\n",
       "\n",
       "    .dataframe thead th {\n",
       "        text-align: right;\n",
       "    }\n",
       "</style>\n",
       "<table border=\"1\" class=\"dataframe\">\n",
       "  <thead>\n",
       "    <tr style=\"text-align: right;\">\n",
       "      <th></th>\n",
       "      <th>거점명</th>\n",
       "      <th>주소</th>\n",
       "    </tr>\n",
       "  </thead>\n",
       "  <tbody>\n",
       "    <tr>\n",
       "      <th>0</th>\n",
       "      <td>피플존 디지털미디어시티역 5번출구</td>\n",
       "      <td>서울 은평구 증산동 222-6</td>\n",
       "    </tr>\n",
       "    <tr>\n",
       "      <th>1</th>\n",
       "      <td>피플존 망원동노외공영주차장</td>\n",
       "      <td>서울 마포구 월드컵로 131</td>\n",
       "    </tr>\n",
       "    <tr>\n",
       "      <th>2</th>\n",
       "      <td>피플존 아만티호텔 서울 지하3층</td>\n",
       "      <td>서울 마포구 월드컵북로 31</td>\n",
       "    </tr>\n",
       "    <tr>\n",
       "      <th>3</th>\n",
       "      <td>피플존 창천동삼거리(화이트빌)</td>\n",
       "      <td>서울 서대문구 창천동 100-26</td>\n",
       "    </tr>\n",
       "    <tr>\n",
       "      <th>4</th>\n",
       "      <td>피플존 한국항공대(방문자 주차장)</td>\n",
       "      <td>경기 고양시 덕양구 항공대학로 76</td>\n",
       "    </tr>\n",
       "    <tr>\n",
       "      <th>...</th>\n",
       "      <td>...</td>\n",
       "      <td>...</td>\n",
       "    </tr>\n",
       "    <tr>\n",
       "      <th>383</th>\n",
       "      <td>피플존 동아대정문앞교직원주차장</td>\n",
       "      <td>부산 사하구 낙동대로550번길 15</td>\n",
       "    </tr>\n",
       "    <tr>\n",
       "      <th>384</th>\n",
       "      <td>피플존 여수엑스포역 공영주차장</td>\n",
       "      <td>전남 여수시 덕충동 61-7</td>\n",
       "    </tr>\n",
       "    <tr>\n",
       "      <th>385</th>\n",
       "      <td>피플존 인제대학교 늘빛관 옆 주차장 3층</td>\n",
       "      <td>경남 김해시 어방동 607 인제대학교</td>\n",
       "    </tr>\n",
       "    <tr>\n",
       "      <th>386</th>\n",
       "      <td>피플존 부경대대연캠퍼스옆(에이스고시원)</td>\n",
       "      <td>부산 남구 용소로21번길 13</td>\n",
       "    </tr>\n",
       "    <tr>\n",
       "      <th>387</th>\n",
       "      <td>피플존 전남대 여수캠퍼스 체육관 운동장 뒤 주차장</td>\n",
       "      <td>전남 여수시 둔덕동 산 96-1</td>\n",
       "    </tr>\n",
       "  </tbody>\n",
       "</table>\n",
       "<p>388 rows × 2 columns</p>\n",
       "</div>"
      ],
      "text/plain": [
       "                             거점명                    주소\n",
       "0             피플존 디지털미디어시티역 5번출구      서울 은평구 증산동 222-6\n",
       "1                 피플존 망원동노외공영주차장       서울 마포구 월드컵로 131\n",
       "2              피플존 아만티호텔 서울 지하3층       서울 마포구 월드컵북로 31\n",
       "3               피플존 창천동삼거리(화이트빌)    서울 서대문구 창천동 100-26\n",
       "4             피플존 한국항공대(방문자 주차장)   경기 고양시 덕양구 항공대학로 76\n",
       "..                           ...                   ...\n",
       "383             피플존 동아대정문앞교직원주차장   부산 사하구 낙동대로550번길 15\n",
       "384             피플존 여수엑스포역 공영주차장       전남 여수시 덕충동 61-7\n",
       "385       피플존 인제대학교 늘빛관 옆 주차장 3층  경남 김해시 어방동 607 인제대학교\n",
       "386        피플존 부경대대연캠퍼스옆(에이스고시원)      부산 남구 용소로21번길 13\n",
       "387  피플존 전남대 여수캠퍼스 체육관 운동장 뒤 주차장     전남 여수시 둔덕동 산 96-1\n",
       "\n",
       "[388 rows x 2 columns]"
      ]
     },
     "execution_count": 47,
     "metadata": {},
     "output_type": "execute_result"
    }
   ],
   "source": [
    "all_df_final"
   ]
  },
  {
   "cell_type": "code",
   "execution_count": 49,
   "metadata": {},
   "outputs": [],
   "source": [
    "all_df_final.to_csv('피플존_전국_카카오맵_크롤링.csv',encoding='cp949')"
   ]
  },
  {
   "cell_type": "code",
   "execution_count": null,
   "metadata": {},
   "outputs": [],
   "source": []
  }
 ],
 "metadata": {
  "kernelspec": {
   "display_name": "Python 3",
   "language": "python",
   "name": "python3"
  },
  "language_info": {
   "codemirror_mode": {
    "name": "ipython",
    "version": 3
   },
   "file_extension": ".py",
   "mimetype": "text/x-python",
   "name": "python",
   "nbconvert_exporter": "python",
   "pygments_lexer": "ipython3",
   "version": "3.7.7"
  }
 },
 "nbformat": 4,
 "nbformat_minor": 4
}
